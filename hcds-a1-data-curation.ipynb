{
 "cells": [
  {
   "cell_type": "markdown",
   "metadata": {
    "deletable": true,
    "editable": true
   },
   "source": [
    "# English Wikipedia Page Views, 2008 - 2017\n",
    "\n",
    "This code will scrape traffic volumes on English language Wikipedia pages over time.  It will track both desktop requests, mobile app, and mobile web requests for all months that the data is provided.  It will make requests for these data using Wikipedia RESTful APIs, consolidate the data, and - time permitting - present the data as a graph of page counts as they evolve over time."
   ]
  },
  {
   "cell_type": "markdown",
   "metadata": {
    "deletable": true,
    "editable": true
   },
   "source": [
    "Import Python files required for this code.  Declare and initialize common Wikipedia REST API endpoints, and common headers used by the API calls."
   ]
  },
  {
   "cell_type": "code",
   "execution_count": 72,
   "metadata": {
    "collapsed": true,
    "deletable": true,
    "editable": true
   },
   "outputs": [],
   "source": [
    "import copy\n",
    "import csv\n",
    "import datetime\n",
    "from dateutil.relativedelta import relativedelta\n",
    "import json\n",
    "import requests\n",
    "\n",
    "endpoint_pagecounts = 'https://wikimedia.org/api/rest_v1/metrics/legacy/pagecounts/aggregate/{project}/{access-site}/{granularity}/{start}/{end}'\n",
    "endpoint_pageviews  = 'https://wikimedia.org/api/rest_v1/metrics/pageviews/aggregate/{project}/{access}/{agent}/{granularity}/{start}/{end}'\n",
    "\n",
    "headers = {'User-Agent': 'https://github.com/garygr2002', 'From': 'garygr@uw.edu'}"
   ]
  },
  {
   "cell_type": "markdown",
   "metadata": {
    "deletable": true,
    "editable": true
   },
   "source": [
    "This function will format a date object to include year, month, day and hour."
   ]
  },
  {
   "cell_type": "code",
   "execution_count": 73,
   "metadata": {
    "collapsed": true,
    "deletable": true,
    "editable": true
   },
   "outputs": [],
   "source": [
    "def format_date_long(date):\n",
    "    return date.strftime('%Y%m%d%H')\n",
    "\n"
   ]
  },
  {
   "cell_type": "markdown",
   "metadata": {
    "deletable": true,
    "editable": true
   },
   "source": [
    "This function will format a date object to include only year and month."
   ]
  },
  {
   "cell_type": "code",
   "execution_count": 74,
   "metadata": {
    "collapsed": true,
    "deletable": true,
    "editable": true
   },
   "outputs": [],
   "source": [
    "def format_date_short(date):\n",
    "    return date.strftime('%Y%m')\n",
    "\n"
   ]
  },
  {
   "cell_type": "markdown",
   "metadata": {
    "deletable": true,
    "editable": true
   },
   "source": [
    "This function will call the Wikimedia Page Counts REST API given access type ('desktop-site' or 'mobile-site'), a start date, and an end date.  Dates are assumed to be given on month boundaries."
   ]
  },
  {
   "cell_type": "code",
   "execution_count": 75,
   "metadata": {
    "collapsed": true,
    "deletable": true,
    "editable": true
   },
   "outputs": [],
   "source": [
    "def get_page_counts(access, start_date, end_date):\n",
    "    \n",
    "    params = {'project' : 'en.wikipedia.org',\n",
    "              'access-site' : access,\n",
    "              'granularity' : 'monthly',\n",
    "              'start' : format_date_long(start_date),\n",
    "              'end' : format_date_long(end_date)\n",
    "             }\n",
    "    \n",
    "    api_call = requests.get(endpoint_pagecounts.format(**params))\n",
    "    return api_call.json()\n",
    "\n"
   ]
  },
  {
   "cell_type": "markdown",
   "metadata": {
    "deletable": true,
    "editable": true
   },
   "source": [
    "This function will call the Wikimedia Page Views REST API given access type ('desktop', 'mobile-app', or 'mobile-web'), a start date, and an end date.  Dates are assumed to be given on month boundares."
   ]
  },
  {
   "cell_type": "code",
   "execution_count": 76,
   "metadata": {
    "collapsed": true,
    "deletable": true,
    "editable": true
   },
   "outputs": [],
   "source": [
    "def get_page_views(access, start_date, end_date):\n",
    "    \n",
    "    params = {'project' : 'en.wikipedia.org',\n",
    "              'access' : access,\n",
    "              'agent' : 'user',\n",
    "              'granularity' : 'monthly',\n",
    "              'start' : format_date_long(start_date),\n",
    "              'end' : format_date_long(end_date)\n",
    "             }\n",
    "    \n",
    "    api_call = requests.get(endpoint_pageviews.format(**params))\n",
    "    return api_call.json()\n",
    "\n"
   ]
  },
  {
   "cell_type": "markdown",
   "metadata": {
    "deletable": true,
    "editable": true
   },
   "source": [
    "Declare and initialize the column headers for the CSV file that this code will produce."
   ]
  },
  {
   "cell_type": "code",
   "execution_count": 77,
   "metadata": {
    "collapsed": true,
    "deletable": true,
    "editable": true
   },
   "outputs": [],
   "source": [
    "pagecount_all_views = 'pagecount_all_views'\n",
    "pagecount_desktop_views = 'pagecount_desktop_views'\n",
    "pagecount_mobile_views = 'pagecount_mobile_views'\n",
    "pageview_all_views = 'pageview_all_views'\n",
    "pageview_desktop_views = 'pageview_desktop_views'\n",
    "pageview_mobile_views = 'pageview_mobile_views'\n"
   ]
  },
  {
   "cell_type": "markdown",
   "metadata": {
    "deletable": true,
    "editable": true
   },
   "source": [
    "Declare and initialize a lookup dictionary that will allow CSV column headers to be indexed by a concatenation of REST API type and access type."
   ]
  },
  {
   "cell_type": "code",
   "execution_count": 78,
   "metadata": {
    "collapsed": true
   },
   "outputs": [],
   "source": [
    "key_lookup_dictionary = {'pagecounts/desktop-site' : pagecount_desktop_views,\n",
    "                        'pagecounts/mobile-site' : pagecount_mobile_views,\n",
    "                        'pageviews/desktop' : pageview_desktop_views,\n",
    "                        'pageviews/mobile-app' : pageview_mobile_views,\n",
    "                        'pageviews/mobile-web' : pageview_mobile_views}\n"
   ]
  },
  {
   "cell_type": "markdown",
   "metadata": {},
   "source": [
    "Declare and initialize a initial traffic counts dictionary that will show zero requests for each of the page accesses that this code will track.  Declare and initialize an initial traffic dictionary that is empty.  We will populate it with traffic requests indexed by month."
   ]
  },
  {
   "cell_type": "code",
   "execution_count": 79,
   "metadata": {
    "collapsed": true,
    "deletable": true,
    "editable": true
   },
   "outputs": [],
   "source": [
    "initial_traffic = {pagecount_all_views : 0,\n",
    "                  pagecount_desktop_views : 0,\n",
    "                  pagecount_mobile_views : 0,\n",
    "                  pageview_all_views : 0,\n",
    "                  pageview_desktop_views : 0,\n",
    "                  pageview_mobile_views : 0}\n",
    "\n",
    "initial_traffic_dictionary = { }\n",
    "traffic_dictionary = initial_traffic_dictionary\n"
   ]
  },
  {
   "cell_type": "markdown",
   "metadata": {},
   "source": [
    "This function will access and return page count data from the JSON retured from a Wikipedia RESTful API."
   ]
  },
  {
   "cell_type": "code",
   "execution_count": 80,
   "metadata": {
    "collapsed": true
   },
   "outputs": [],
   "source": [
    "def access_count(api_name, api_data):\n",
    "    \n",
    "    if (api_name == 'pageviews'):\n",
    "        key = 'views'\n",
    "    else:\n",
    "        key = 'count'\n",
    "    return api_data.get('items', None)[0][key]\n",
    "\n"
   ]
  },
  {
   "cell_type": "markdown",
   "metadata": {},
   "source": [
    "This function will initialize the by-month traffic data dictionary."
   ]
  },
  {
   "cell_type": "code",
   "execution_count": 81,
   "metadata": {
    "collapsed": true
   },
   "outputs": [],
   "source": [
    "def clear_traffic_dictionary():\n",
    "    traffic_dictionary = initial_traffic_dictionary\n",
    "\n"
   ]
  },
  {
   "cell_type": "markdown",
   "metadata": {},
   "source": [
    "This function will update the by-month traffic dictionary.  It attempts to locate an existing entry in the dictionary given its access information.  If it finds none, it adds a new entry for the given date.  If it finds an existing entry, it updates the entry."
   ]
  },
  {
   "cell_type": "code",
   "execution_count": 82,
   "metadata": {
    "collapsed": true
   },
   "outputs": [],
   "source": [
    "def update_traffic_dictionary(start_date, api_name, access, api_data):\n",
    "    \n",
    "    date_key = format_date_short(start_date)\n",
    "    traffic = traffic_dictionary.get(date_key, copy.deepcopy(initial_traffic))\n",
    "    access_key = key_lookup_dictionary['{}/{}'.format(api_name, access)]\n",
    "    count = traffic.get(access_key, 0)\n",
    "    count += access_count(api_name, api_data)\n",
    "    traffic[access_key] = count\n",
    "    traffic_dictionary[date_key] = traffic\n",
    "\n"
   ]
  },
  {
   "cell_type": "markdown",
   "metadata": {},
   "source": [
    "This function updates traffic totals for all entries in the traffic dictionary (given by month), by summing desktop and mobile views, and updating the 'all views' member."
   ]
  },
  {
   "cell_type": "code",
   "execution_count": 83,
   "metadata": {
    "collapsed": true
   },
   "outputs": [],
   "source": [
    "def calculate_traffic_totals():\n",
    "    \n",
    "    for key, val in traffic_dictionary.items():\n",
    "        val[pagecount_all_views] = val[pagecount_desktop_views] + val[pagecount_mobile_views]\n",
    "        val[pageview_all_views] = val[pageview_desktop_views] + val[pageview_mobile_views]\n",
    "\n"
   ]
  },
  {
   "cell_type": "markdown",
   "metadata": {},
   "source": [
    "This function calls an API (either Page Counts or Page Views) for a given start date, and number of iterations.  Iterations define the number of months requested."
   ]
  },
  {
   "cell_type": "code",
   "execution_count": 84,
   "metadata": {
    "collapsed": true
   },
   "outputs": [],
   "source": [
    "def perform_api_call(api_name, function, access, initial_start_date, iterations):\n",
    "\n",
    "    start_date = initial_start_date\n",
    "    traffic = { }\n",
    "    for i in range(0, iterations):\n",
    "        # print('Request starting \\'{}\\'...'.format(start_date.strftime('%Y%m%d')))\n",
    "        end_date = start_date + relativedelta(months=+1)\n",
    "        api_data = function(access, start_date, end_date)\n",
    "        update_traffic_dictionary(start_date, api_name, access, api_data)\n",
    "        traffic[start_date.strftime('%Y%m%d')] = api_data\n",
    "        start_date = end_date\n",
    "        \n",
    "    #\n",
    "    #  Note: At this stage we have traffic data for the API name for all the months\n",
    "    #  that have been requested.  Here we open a JSON file for the API name, access\n",
    "    #  type, and date range.  We then write the file.\n",
    "    #\n",
    "        \n",
    "    with open('{}_{}_{}_{}.json'.format(api_name,\n",
    "                                        access,\n",
    "                                        format_date_short(initial_start_date),\n",
    "                                        format_date_short(end_date)),\n",
    "              'w') as outfile:  \n",
    "        json.dump(traffic, outfile)\n",
    "\n"
   ]
  },
  {
   "cell_type": "markdown",
   "metadata": {},
   "source": [
    "Declare and initialize common API names and access keys."
   ]
  },
  {
   "cell_type": "code",
   "execution_count": 85,
   "metadata": {
    "collapsed": true
   },
   "outputs": [],
   "source": [
    "api_name_current = 'pageviews'\n",
    "api_name_legacy = 'pagecounts'\n",
    "\n",
    "key_access = 'access'\n",
    "key_api_name = 'apiname'\n",
    "key_function = 'function'\n",
    "key_months = 'months'\n",
    "key_start_date = 'startdate'\n"
   ]
  },
  {
   "cell_type": "markdown",
   "metadata": {},
   "source": [
    "Declare and initialize parameter grouping dictionaries that include API name, function to call, access string, start date, and number of requested months."
   ]
  },
  {
   "cell_type": "code",
   "execution_count": 86,
   "metadata": {
    "collapsed": true
   },
   "outputs": [],
   "source": [
    "legacy_mobile = {key_api_name : api_name_legacy,\n",
    "                 key_function : get_page_counts,\n",
    "                 key_access : 'mobile-site',\n",
    "                 key_start_date : datetime.datetime(2014, 10, 1, 0, 0, 0),\n",
    "                 key_months : 23 } # 1 }\n",
    "\n",
    "legacy_desktop = {key_api_name : api_name_legacy,\n",
    "                 key_function : get_page_counts,\n",
    "                 key_access : 'desktop-site',\n",
    "                 key_start_date : datetime.datetime(2008, 1, 1, 0, 0, 0),\n",
    "                 key_months : 104 } # 1 }\n",
    "\n",
    "current_desktop = {key_api_name : api_name_current,\n",
    "                   key_function : get_page_views,\n",
    "                   key_access : 'desktop',\n",
    "                   key_start_date : datetime.datetime(2015, 7, 1, 0, 0, 0),\n",
    "                   key_months : 26 } # 1 }\n",
    "\n",
    "current_mobile_app = {key_api_name : api_name_current,\n",
    "                      key_function : get_page_views,\n",
    "                      key_access : 'mobile-app',\n",
    "                      key_start_date : datetime.datetime(2015, 7, 1, 0, 0, 0),\n",
    "                      key_months : 26 } # 1 }\n",
    "\n",
    "current_mobile_web = {key_api_name : api_name_current,\n",
    "                      key_function : get_page_views,\n",
    "                      key_access : 'mobile-web',\n",
    "                      key_start_date : datetime.datetime(2015, 7, 1, 0, 0, 0),\n",
    "                      key_months : 26 } # 1 }\n"
   ]
  },
  {
   "cell_type": "markdown",
   "metadata": {},
   "source": [
    "Declare and initialize a tuple of the parameter grouping dictionaries.  Clear the traffic data dictionary, and cycle for each parameter group.  Perform the API call for the first/next parameter group."
   ]
  },
  {
   "cell_type": "code",
   "execution_count": 87,
   "metadata": {
    "collapsed": false
   },
   "outputs": [
    {
     "name": "stdout",
     "output_type": "stream",
     "text": [
      "Starting a new one...\n",
      "Starting a new one...\n",
      "Starting a new one...\n",
      "Starting a new one...\n",
      "Starting a new one...\n"
     ]
    }
   ],
   "source": [
    "access_types = [legacy_desktop, legacy_mobile, current_desktop, current_mobile_web, current_mobile_app]\n",
    "\n",
    "clear_traffic_dictionary()\n",
    "for access_type in access_types:\n",
    "    print('Starting a new one...')\n",
    "    perform_api_call(access_type[key_api_name],\n",
    "                     access_type[key_function],\n",
    "                     access_type[key_access],\n",
    "                     access_type[key_start_date],\n",
    "                     access_type[key_months])\n",
    "\n",
    "    "
   ]
  },
  {
   "cell_type": "markdown",
   "metadata": {},
   "source": [
    "Now calculate the traffic totals by summing desktop and mobile access.  Open the output CSV file, create a CSV, and give it a column header.  Sort the traffic dictionary by date, and for each key (in ascending order), write a row that gives all pagecount views, pagecount desktop views, pagecount mobile views, pageview all views, pageview desktop views, and pageview mobile views.  We are done!"
   ]
  },
  {
   "cell_type": "code",
   "execution_count": 88,
   "metadata": {
    "collapsed": true,
    "deletable": true,
    "editable": true
   },
   "outputs": [],
   "source": [
    "calculate_traffic_totals()\n",
    "with open('en-wikipedia_traffic_200801-201709.csv', 'w', newline='') as csvfile:\n",
    "    \n",
    "    csvwriter = csv.writer(csvfile)\n",
    "    csvwriter.writerow(['year', 'month', pagecount_all_views, pagecount_desktop_views, pagecount_mobile_views,\n",
    "                        pageview_all_views, pageview_desktop_views, pageview_mobile_views])\n",
    "    \n",
    "    sorted_keys = sorted(traffic_dictionary)\n",
    "    for key in sorted_keys:\n",
    "        \n",
    "        item = traffic_dictionary[key]\n",
    "        csvwriter.writerow([key[:4],\n",
    "                            key[4:],\n",
    "                            item[pagecount_all_views],\n",
    "                            item[pagecount_desktop_views],\n",
    "                            item[pagecount_mobile_views],\n",
    "                            item[pageview_all_views],\n",
    "                            item[pageview_desktop_views],\n",
    "                            item[pageview_mobile_views]])\n"
   ]
  },
  {
   "cell_type": "code",
   "execution_count": null,
   "metadata": {
    "collapsed": true,
    "deletable": true,
    "editable": true
   },
   "outputs": [],
   "source": [
    "\n"
   ]
  }
 ],
 "metadata": {
  "kernelspec": {
   "display_name": "Python 3",
   "language": "python",
   "name": "python3"
  },
  "language_info": {
   "codemirror_mode": {
    "name": "ipython",
    "version": 3
   },
   "file_extension": ".py",
   "mimetype": "text/x-python",
   "name": "python",
   "nbconvert_exporter": "python",
   "pygments_lexer": "ipython3",
   "version": "3.6.0"
  }
 },
 "nbformat": 4,
 "nbformat_minor": 2
}
